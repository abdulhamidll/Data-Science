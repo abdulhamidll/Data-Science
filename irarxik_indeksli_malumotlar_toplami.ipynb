{
  "nbformat": 4,
  "nbformat_minor": 0,
  "metadata": {
    "colab": {
      "name": "irarxik-indeksli-malumotlar-toplami.ipynb",
      "provenance": [],
      "authorship_tag": "ABX9TyNC/TwIDFsMRFpfAupUI3A8",
      "include_colab_link": true
    },
    "kernelspec": {
      "name": "python3",
      "display_name": "Python 3"
    },
    "language_info": {
      "name": "python"
    }
  },
  "cells": [
    {
      "cell_type": "markdown",
      "metadata": {
        "id": "view-in-github",
        "colab_type": "text"
      },
      "source": [
        "<a href=\"https://colab.research.google.com/github/abdulhamidll/Data-Science/blob/main/irarxik_indeksli_malumotlar_toplami.ipynb\" target=\"_parent\"><img src=\"https://colab.research.google.com/assets/colab-badge.svg\" alt=\"Open In Colab\"/></a>"
      ]
    },
    {
      "cell_type": "code",
      "execution_count": 1,
      "metadata": {
        "id": "NMmGeKS1bolW"
      },
      "outputs": [],
      "source": [
        "import pandas as pd\n",
        "import numpy as np"
      ]
    },
    {
      "cell_type": "code",
      "source": [
        "data = pd.Series(np.random.randn(9), index = ['a', 'a', 'a', 'b', 'b', 'c', 'c', 'd', 'd'])\n",
        "data"
      ],
      "metadata": {
        "colab": {
          "base_uri": "https://localhost:8080/"
        },
        "id": "A2gN6cU8b-fa",
        "outputId": "49c8dcad-3fa3-494f-88ab-5608c3a9d16b"
      },
      "execution_count": 2,
      "outputs": [
        {
          "output_type": "execute_result",
          "data": {
            "text/plain": [
              "a   -0.950194\n",
              "a    0.259312\n",
              "a    1.870431\n",
              "b    2.519011\n",
              "b    1.769519\n",
              "c    0.114537\n",
              "c    1.712098\n",
              "d    0.732199\n",
              "d   -1.253667\n",
              "dtype: float64"
            ]
          },
          "metadata": {},
          "execution_count": 2
        }
      ]
    },
    {
      "cell_type": "code",
      "source": [
        "data1 = pd.Series(np.random.randn(9), index = [['a', 'a', 'a', 'b', 'b', 'c', 'c', 'd', 'd'], [1, 2, 3, 1, 3, 1, 2, 2, 3]])\n",
        "data1"
      ],
      "metadata": {
        "colab": {
          "base_uri": "https://localhost:8080/"
        },
        "id": "daXy9MWtcV1K",
        "outputId": "7b55e716-c550-4b14-f1f7-48908abadc32"
      },
      "execution_count": 3,
      "outputs": [
        {
          "output_type": "execute_result",
          "data": {
            "text/plain": [
              "a  1   -0.750629\n",
              "   2   -0.596909\n",
              "   3   -1.519199\n",
              "b  1    0.802907\n",
              "   3    0.705184\n",
              "c  1    0.494724\n",
              "   2    0.417717\n",
              "d  2    0.722171\n",
              "   3   -1.410540\n",
              "dtype: float64"
            ]
          },
          "metadata": {},
          "execution_count": 3
        }
      ]
    },
    {
      "cell_type": "code",
      "source": [
        "data1.index"
      ],
      "metadata": {
        "colab": {
          "base_uri": "https://localhost:8080/"
        },
        "id": "9wyAVx_pck9n",
        "outputId": "a4c130ff-43ea-44e7-8f98-97f76ee37e32"
      },
      "execution_count": 4,
      "outputs": [
        {
          "output_type": "execute_result",
          "data": {
            "text/plain": [
              "MultiIndex([('a', 1),\n",
              "            ('a', 2),\n",
              "            ('a', 3),\n",
              "            ('b', 1),\n",
              "            ('b', 3),\n",
              "            ('c', 1),\n",
              "            ('c', 2),\n",
              "            ('d', 2),\n",
              "            ('d', 3)],\n",
              "           )"
            ]
          },
          "metadata": {},
          "execution_count": 4
        }
      ]
    },
    {
      "cell_type": "code",
      "source": [
        "data1['a'] # subsetlari bilan ajratib olish"
      ],
      "metadata": {
        "colab": {
          "base_uri": "https://localhost:8080/"
        },
        "id": "rrw41gplcwGs",
        "outputId": "dd2f026b-6f0f-4869-b621-de6d0a5e1a56"
      },
      "execution_count": 5,
      "outputs": [
        {
          "output_type": "execute_result",
          "data": {
            "text/plain": [
              "1   -0.750629\n",
              "2   -0.596909\n",
              "3   -1.519199\n",
              "dtype: float64"
            ]
          },
          "metadata": {},
          "execution_count": 5
        }
      ]
    },
    {
      "cell_type": "code",
      "source": [
        "data1['c': 'd']"
      ],
      "metadata": {
        "colab": {
          "base_uri": "https://localhost:8080/"
        },
        "id": "Zh-wW5Lgc-rn",
        "outputId": "89d0698f-da27-40e4-f5e3-f3a8d4255a32"
      },
      "execution_count": 6,
      "outputs": [
        {
          "output_type": "execute_result",
          "data": {
            "text/plain": [
              "c  1    0.494724\n",
              "   2    0.417717\n",
              "d  2    0.722171\n",
              "   3   -1.410540\n",
              "dtype: float64"
            ]
          },
          "metadata": {},
          "execution_count": 6
        }
      ]
    },
    {
      "cell_type": "code",
      "source": [
        "data1.loc[:, 2]"
      ],
      "metadata": {
        "colab": {
          "base_uri": "https://localhost:8080/"
        },
        "id": "yj0vIIFedJme",
        "outputId": "6e2a39d4-30f1-4405-fed8-e9d4598434ff"
      },
      "execution_count": 7,
      "outputs": [
        {
          "output_type": "execute_result",
          "data": {
            "text/plain": [
              "a   -0.596909\n",
              "c    0.417717\n",
              "d    0.722171\n",
              "dtype: float64"
            ]
          },
          "metadata": {},
          "execution_count": 7
        }
      ]
    },
    {
      "cell_type": "code",
      "source": [
        "data1.loc[['b', 'd']]"
      ],
      "metadata": {
        "colab": {
          "base_uri": "https://localhost:8080/"
        },
        "id": "5SpPhYOzdW2c",
        "outputId": "d6dabf4d-e005-4d53-db7d-18b9cdd48798"
      },
      "execution_count": 8,
      "outputs": [
        {
          "output_type": "execute_result",
          "data": {
            "text/plain": [
              "b  1    0.802907\n",
              "   3    0.705184\n",
              "d  2    0.722171\n",
              "   3   -1.410540\n",
              "dtype: float64"
            ]
          },
          "metadata": {},
          "execution_count": 8
        }
      ]
    },
    {
      "cell_type": "code",
      "source": [
        ""
      ],
      "metadata": {
        "id": "m5lBpjCBdjXj"
      },
      "execution_count": null,
      "outputs": []
    }
  ]
}