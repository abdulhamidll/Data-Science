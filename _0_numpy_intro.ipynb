{
  "nbformat": 4,
  "nbformat_minor": 0,
  "metadata": {
    "colab": {
      "name": "#0_numpy_intro.ipynb",
      "provenance": [],
      "authorship_tag": "ABX9TyPuRnZkfYmPftcyrmyT9L4I",
      "include_colab_link": true
    },
    "kernelspec": {
      "name": "python3",
      "display_name": "Python 3"
    },
    "language_info": {
      "name": "python"
    }
  },
  "cells": [
    {
      "cell_type": "markdown",
      "metadata": {
        "id": "view-in-github",
        "colab_type": "text"
      },
      "source": [
        "<a href=\"https://colab.research.google.com/github/abdulhamidll/Data-Science/blob/main/_0_numpy_intro.ipynb\" target=\"_parent\"><img src=\"https://colab.research.google.com/assets/colab-badge.svg\" alt=\"Open In Colab\"/></a>"
      ]
    },
    {
      "cell_type": "code",
      "execution_count": 8,
      "metadata": {
        "colab": {
          "base_uri": "https://localhost:8080/"
        },
        "id": "fyB-7b1tygip",
        "outputId": "df3fe555-5977-4ad4-8851-1aae31c0d3af"
      },
      "outputs": [
        {
          "output_type": "stream",
          "name": "stdout",
          "text": [
            "0:00:00.008406\n",
            "0:00:00.000655\n"
          ]
        }
      ],
      "source": [
        "import numpy as np\n",
        "\n",
        "my_list = list(range(100000))\n",
        "my_array =  np.array(range(100000))\n",
        "\n",
        "import datetime\n",
        "curret_time = datetime.datetime.now()\n",
        "\n",
        "for i in my_list:\n",
        "  i*2\n",
        "curret_time2 = datetime.datetime.now()\n",
        "result = curret_time2 - curret_time\n",
        "print(result) # 0:00:00.008944\n",
        "\n",
        "\n",
        "curret_time = datetime.datetime.now()\n",
        "\n",
        "my_array * 2\n",
        "curret_time2 = datetime.datetime.now()\n",
        "result2 = curret_time2 - curret_time\n",
        "print(result2)\n"
      ]
    }
  ]
}