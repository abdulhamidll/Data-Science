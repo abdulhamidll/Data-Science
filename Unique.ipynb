{
  "nbformat": 4,
  "nbformat_minor": 0,
  "metadata": {
    "colab": {
      "name": "Unique.ipynb",
      "provenance": [],
      "authorship_tag": "ABX9TyOVrNmPIIrT0lis+PH2Jk52",
      "include_colab_link": true
    },
    "kernelspec": {
      "name": "python3",
      "display_name": "Python 3"
    },
    "language_info": {
      "name": "python"
    }
  },
  "cells": [
    {
      "cell_type": "markdown",
      "metadata": {
        "id": "view-in-github",
        "colab_type": "text"
      },
      "source": [
        "<a href=\"https://colab.research.google.com/github/abdulhamidll/Data-Science/blob/main/Unique.ipynb\" target=\"_parent\"><img src=\"https://colab.research.google.com/assets/colab-badge.svg\" alt=\"Open In Colab\"/></a>"
      ]
    },
    {
      "cell_type": "code",
      "execution_count": 2,
      "metadata": {
        "id": "isG93HbBYON-"
      },
      "outputs": [],
      "source": [
        "import numpy as np\n"
      ]
    },
    {
      "cell_type": "code",
      "source": [
        "#data\n",
        "names = np.array(['Sarvar', 'ali', 'bekorqul', 'shali', 'shali', 'bekorqul'])\n",
        "ints = np.array([1, 2, 4, 3, 4, 2, 3, 6, 3])"
      ],
      "metadata": {
        "id": "9UEW0dYYYU07"
      },
      "execution_count": 3,
      "outputs": []
    },
    {
      "cell_type": "code",
      "source": [
        "np.unique(names) # takrorlanmas elemantlarni qaytaradi (takrorlansa ham faqat bittasini qabul qiladi)"
      ],
      "metadata": {
        "colab": {
          "base_uri": "https://localhost:8080/"
        },
        "id": "2n1S8fmFZH5z",
        "outputId": "cb554296-b6e9-4a3c-c256-eba5f6636ba2"
      },
      "execution_count": 6,
      "outputs": [
        {
          "output_type": "execute_result",
          "data": {
            "text/plain": [
              "array(['Sarvar', 'ali', 'bekorqul', 'shali'], dtype='<U8')"
            ]
          },
          "metadata": {},
          "execution_count": 6
        }
      ]
    },
    {
      "cell_type": "code",
      "source": [
        "# in1d \n",
        "arr1 = np.array([1, 2, 1, 3, 4,5 ,2,3, 23,1, 32,2])\n",
        "arr2 = np.array([1, 2, 3])"
      ],
      "metadata": {
        "id": "fQENqnQkZOpy"
      },
      "execution_count": 8,
      "outputs": []
    },
    {
      "cell_type": "code",
      "source": [
        "arr1"
      ],
      "metadata": {
        "colab": {
          "base_uri": "https://localhost:8080/"
        },
        "id": "qehIP3NAbqB_",
        "outputId": "5bdd7d7d-778f-4e25-cc2f-05b51acf6694"
      },
      "execution_count": 9,
      "outputs": [
        {
          "output_type": "execute_result",
          "data": {
            "text/plain": [
              "array([ 1,  2,  1,  3,  4,  5,  2,  3, 23,  1, 32,  2])"
            ]
          },
          "metadata": {},
          "execution_count": 9
        }
      ]
    },
    {
      "cell_type": "code",
      "source": [
        "arr2"
      ],
      "metadata": {
        "colab": {
          "base_uri": "https://localhost:8080/"
        },
        "id": "s_4iBMrsbq0b",
        "outputId": "0dfa705f-bc9d-4fb8-aee5-113a0bc7ab9a"
      },
      "execution_count": 10,
      "outputs": [
        {
          "output_type": "execute_result",
          "data": {
            "text/plain": [
              "array([1, 2, 3])"
            ]
          },
          "metadata": {},
          "execution_count": 10
        }
      ]
    },
    {
      "cell_type": "code",
      "source": [
        "np.in1d(arr1, arr2) # arr2 dagi elementlarni arr1da mavjudligini tekshirish"
      ],
      "metadata": {
        "colab": {
          "base_uri": "https://localhost:8080/"
        },
        "id": "cwYETstRbrzs",
        "outputId": "c9925220-5f7a-46f2-f2e1-fa57d934bb95"
      },
      "execution_count": 12,
      "outputs": [
        {
          "output_type": "execute_result",
          "data": {
            "text/plain": [
              "array([ True,  True,  True,  True, False, False,  True,  True, False,\n",
              "        True, False,  True])"
            ]
          },
          "metadata": {},
          "execution_count": 12
        }
      ]
    },
    {
      "cell_type": "code",
      "source": [
        "# setdiff1d\n",
        "names1 = np.array([\"hasan\", \"husan\", \"ali\", \"vali\"])\n",
        "names2 = np.array([\"hasan\", \"alisher\", \"klai\", \"kali\", \"vali\"])"
      ],
      "metadata": {
        "id": "TznGezeacUM0"
      },
      "execution_count": 13,
      "outputs": []
    },
    {
      "cell_type": "code",
      "source": [
        "np.setdiff1d(names1, names2) # names1 massivinig names2 qismidagi takrorlanmas qismini qaytaradi"
      ],
      "metadata": {
        "colab": {
          "base_uri": "https://localhost:8080/"
        },
        "id": "T45PSpalc0vk",
        "outputId": "22ca32dc-92cf-486f-e864-5381bb0945a4"
      },
      "execution_count": 14,
      "outputs": [
        {
          "output_type": "execute_result",
          "data": {
            "text/plain": [
              "array(['ali', 'husan'], dtype='<U5')"
            ]
          },
          "metadata": {},
          "execution_count": 14
        }
      ]
    }
  ]
}