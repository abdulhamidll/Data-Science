{
  "nbformat": 4,
  "nbformat_minor": 0,
  "metadata": {
    "colab": {
      "name": "2.1.3_Arr_or_Pr.ipynb",
      "provenance": [],
      "authorship_tag": "ABX9TyOpmkn0cOpPQcexPMGg+MCy",
      "include_colab_link": true
    },
    "kernelspec": {
      "name": "python3",
      "display_name": "Python 3"
    },
    "language_info": {
      "name": "python"
    }
  },
  "cells": [
    {
      "cell_type": "markdown",
      "metadata": {
        "id": "view-in-github",
        "colab_type": "text"
      },
      "source": [
        "<a href=\"https://colab.research.google.com/github/abdulhamidll/Data-Science/blob/main/2_1_3_Arr_or_Pr.ipynb\" target=\"_parent\"><img src=\"https://colab.research.google.com/assets/colab-badge.svg\" alt=\"Open In Colab\"/></a>"
      ]
    },
    {
      "cell_type": "code",
      "execution_count": 2,
      "metadata": {
        "id": "SEQnGqudtOwm"
      },
      "outputs": [],
      "source": [
        "import numpy as np"
      ]
    },
    {
      "cell_type": "code",
      "source": [
        "xarr = np.array([1.1, 1.2, 1.3, 1.4, 1.5])\n",
        "yarr = np.array([2.1, 2.2, 2.3, 2.4, 2.5])\n",
        "xarr"
      ],
      "metadata": {
        "colab": {
          "base_uri": "https://localhost:8080/"
        },
        "id": "a7BJ_4-0tTd0",
        "outputId": "b2abbd38-1e0f-43ea-de76-dd195f38bdd1"
      },
      "execution_count": 6,
      "outputs": [
        {
          "output_type": "execute_result",
          "data": {
            "text/plain": [
              "array([1.1, 1.2, 1.3, 1.4, 1.5])"
            ]
          },
          "metadata": {},
          "execution_count": 6
        }
      ]
    },
    {
      "cell_type": "code",
      "source": [
        "# shart\n",
        "cond = np.array([True, False, True, False, True])"
      ],
      "metadata": {
        "id": "nGVT5vNXuMHs"
      },
      "execution_count": 16,
      "outputs": []
    },
    {
      "cell_type": "code",
      "source": [
        "result = np.where(cond, xarr, yarr)# cond == True bo'lsa xarr elementi, cond == False bo'lsa yarr elementi\n",
        "result"
      ],
      "metadata": {
        "colab": {
          "base_uri": "https://localhost:8080/"
        },
        "id": "vVTJsp_tuZMM",
        "outputId": "f8d5a43b-6f43-446d-9680-2e352a53853e"
      },
      "execution_count": 18,
      "outputs": [
        {
          "output_type": "execute_result",
          "data": {
            "text/plain": [
              "array([1.1, 2.2, 1.3, 2.4, 1.5])"
            ]
          },
          "metadata": {},
          "execution_count": 18
        }
      ]
    },
    {
      "cell_type": "code",
      "source": [
        "arr = np.random.randn(4, 4) # 4ta qator 4 ta ustunli 2 o'lchamli massiv yaratib olamiz\n",
        "arr"
      ],
      "metadata": {
        "colab": {
          "base_uri": "https://localhost:8080/"
        },
        "id": "v22AgzUNv_0g",
        "outputId": "d284db62-3dce-4ccd-c733-c5d0a9d7c183"
      },
      "execution_count": 20,
      "outputs": [
        {
          "output_type": "execute_result",
          "data": {
            "text/plain": [
              "array([[-0.15870297, -0.78236207, -0.29977142,  1.04152595],\n",
              "       [-0.3714924 ,  0.52099226, -2.96756973,  1.16745181],\n",
              "       [ 0.71653654,  0.06029607,  0.93767245,  0.64768707],\n",
              "       [-0.01920908, -1.4532733 ,  0.17606736, -0.65988317]])"
            ]
          },
          "metadata": {},
          "execution_count": 20
        }
      ]
    },
    {
      "cell_type": "code",
      "source": [
        "result2 = np.where(arr<0, -2, 2) # massivning manfiy elementalrini -2 ga musbat elementlarni 2 ga almashtiramiz\n",
        "result2"
      ],
      "metadata": {
        "colab": {
          "base_uri": "https://localhost:8080/"
        },
        "id": "XHsX91rjwSju",
        "outputId": "17b0aaea-f040-44a2-a099-98ab9aba1ad2"
      },
      "execution_count": 23,
      "outputs": [
        {
          "output_type": "execute_result",
          "data": {
            "text/plain": [
              "array([[-2, -2, -2,  2],\n",
              "       [-2,  2, -2,  2],\n",
              "       [ 2,  2,  2,  2],\n",
              "       [-2, -2,  2, -2]])"
            ]
          },
          "metadata": {},
          "execution_count": 23
        }
      ]
    }
  ]
}