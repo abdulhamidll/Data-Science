{
  "nbformat": 4,
  "nbformat_minor": 0,
  "metadata": {
    "colab": {
      "name": "dataset-statistikasi-umumlashtiruvchi-malumotlar.ipynb",
      "provenance": [],
      "authorship_tag": "ABX9TyM6nZDNynxYLtTlp8/M9EKj",
      "include_colab_link": true
    },
    "kernelspec": {
      "name": "python3",
      "display_name": "Python 3"
    },
    "language_info": {
      "name": "python"
    }
  },
  "cells": [
    {
      "cell_type": "markdown",
      "metadata": {
        "id": "view-in-github",
        "colab_type": "text"
      },
      "source": [
        "<a href=\"https://colab.research.google.com/github/abdulhamidll/Data-Science/blob/main/dataset_statistikasi_umumlashtiruvchi_malumotlar.ipynb\" target=\"_parent\"><img src=\"https://colab.research.google.com/assets/colab-badge.svg\" alt=\"Open In Colab\"/></a>"
      ]
    },
    {
      "cell_type": "code",
      "execution_count": 1,
      "metadata": {
        "colab": {
          "base_uri": "https://localhost:8080/",
          "height": 206
        },
        "id": "yLgm_gU5PqVy",
        "outputId": "8905bb9f-1354-4dbe-9227-e2e35f8092ae"
      },
      "outputs": [
        {
          "output_type": "execute_result",
          "data": {
            "text/plain": [
              "       model  year  price transmission  mileage fuelType  tax   mpg  \\\n",
              "0        SLK  2005   5200    Automatic    63000   Petrol  325  32.1   \n",
              "1    S Class  2017  34948    Automatic    27000   Hybrid   20  61.4   \n",
              "2   SL CLASS  2016  49948    Automatic     6200   Petrol  555  28.0   \n",
              "3    G Class  2016  61948    Automatic    16000   Petrol  325  30.4   \n",
              "4    G Class  2016  73948    Automatic     4000   Petrol  325  30.1   \n",
              "\n",
              "   engineSize  \n",
              "0         1.8  \n",
              "1         2.1  \n",
              "2         5.5  \n",
              "3         4.0  \n",
              "4         4.0  "
            ],
            "text/html": [
              "\n",
              "  <div id=\"df-9898aaec-9b37-4f49-b2fa-10578238d4c2\">\n",
              "    <div class=\"colab-df-container\">\n",
              "      <div>\n",
              "<style scoped>\n",
              "    .dataframe tbody tr th:only-of-type {\n",
              "        vertical-align: middle;\n",
              "    }\n",
              "\n",
              "    .dataframe tbody tr th {\n",
              "        vertical-align: top;\n",
              "    }\n",
              "\n",
              "    .dataframe thead th {\n",
              "        text-align: right;\n",
              "    }\n",
              "</style>\n",
              "<table border=\"1\" class=\"dataframe\">\n",
              "  <thead>\n",
              "    <tr style=\"text-align: right;\">\n",
              "      <th></th>\n",
              "      <th>model</th>\n",
              "      <th>year</th>\n",
              "      <th>price</th>\n",
              "      <th>transmission</th>\n",
              "      <th>mileage</th>\n",
              "      <th>fuelType</th>\n",
              "      <th>tax</th>\n",
              "      <th>mpg</th>\n",
              "      <th>engineSize</th>\n",
              "    </tr>\n",
              "  </thead>\n",
              "  <tbody>\n",
              "    <tr>\n",
              "      <th>0</th>\n",
              "      <td>SLK</td>\n",
              "      <td>2005</td>\n",
              "      <td>5200</td>\n",
              "      <td>Automatic</td>\n",
              "      <td>63000</td>\n",
              "      <td>Petrol</td>\n",
              "      <td>325</td>\n",
              "      <td>32.1</td>\n",
              "      <td>1.8</td>\n",
              "    </tr>\n",
              "    <tr>\n",
              "      <th>1</th>\n",
              "      <td>S Class</td>\n",
              "      <td>2017</td>\n",
              "      <td>34948</td>\n",
              "      <td>Automatic</td>\n",
              "      <td>27000</td>\n",
              "      <td>Hybrid</td>\n",
              "      <td>20</td>\n",
              "      <td>61.4</td>\n",
              "      <td>2.1</td>\n",
              "    </tr>\n",
              "    <tr>\n",
              "      <th>2</th>\n",
              "      <td>SL CLASS</td>\n",
              "      <td>2016</td>\n",
              "      <td>49948</td>\n",
              "      <td>Automatic</td>\n",
              "      <td>6200</td>\n",
              "      <td>Petrol</td>\n",
              "      <td>555</td>\n",
              "      <td>28.0</td>\n",
              "      <td>5.5</td>\n",
              "    </tr>\n",
              "    <tr>\n",
              "      <th>3</th>\n",
              "      <td>G Class</td>\n",
              "      <td>2016</td>\n",
              "      <td>61948</td>\n",
              "      <td>Automatic</td>\n",
              "      <td>16000</td>\n",
              "      <td>Petrol</td>\n",
              "      <td>325</td>\n",
              "      <td>30.4</td>\n",
              "      <td>4.0</td>\n",
              "    </tr>\n",
              "    <tr>\n",
              "      <th>4</th>\n",
              "      <td>G Class</td>\n",
              "      <td>2016</td>\n",
              "      <td>73948</td>\n",
              "      <td>Automatic</td>\n",
              "      <td>4000</td>\n",
              "      <td>Petrol</td>\n",
              "      <td>325</td>\n",
              "      <td>30.1</td>\n",
              "      <td>4.0</td>\n",
              "    </tr>\n",
              "  </tbody>\n",
              "</table>\n",
              "</div>\n",
              "      <button class=\"colab-df-convert\" onclick=\"convertToInteractive('df-9898aaec-9b37-4f49-b2fa-10578238d4c2')\"\n",
              "              title=\"Convert this dataframe to an interactive table.\"\n",
              "              style=\"display:none;\">\n",
              "        \n",
              "  <svg xmlns=\"http://www.w3.org/2000/svg\" height=\"24px\"viewBox=\"0 0 24 24\"\n",
              "       width=\"24px\">\n",
              "    <path d=\"M0 0h24v24H0V0z\" fill=\"none\"/>\n",
              "    <path d=\"M18.56 5.44l.94 2.06.94-2.06 2.06-.94-2.06-.94-.94-2.06-.94 2.06-2.06.94zm-11 1L8.5 8.5l.94-2.06 2.06-.94-2.06-.94L8.5 2.5l-.94 2.06-2.06.94zm10 10l.94 2.06.94-2.06 2.06-.94-2.06-.94-.94-2.06-.94 2.06-2.06.94z\"/><path d=\"M17.41 7.96l-1.37-1.37c-.4-.4-.92-.59-1.43-.59-.52 0-1.04.2-1.43.59L10.3 9.45l-7.72 7.72c-.78.78-.78 2.05 0 2.83L4 21.41c.39.39.9.59 1.41.59.51 0 1.02-.2 1.41-.59l7.78-7.78 2.81-2.81c.8-.78.8-2.07 0-2.86zM5.41 20L4 18.59l7.72-7.72 1.47 1.35L5.41 20z\"/>\n",
              "  </svg>\n",
              "      </button>\n",
              "      \n",
              "  <style>\n",
              "    .colab-df-container {\n",
              "      display:flex;\n",
              "      flex-wrap:wrap;\n",
              "      gap: 12px;\n",
              "    }\n",
              "\n",
              "    .colab-df-convert {\n",
              "      background-color: #E8F0FE;\n",
              "      border: none;\n",
              "      border-radius: 50%;\n",
              "      cursor: pointer;\n",
              "      display: none;\n",
              "      fill: #1967D2;\n",
              "      height: 32px;\n",
              "      padding: 0 0 0 0;\n",
              "      width: 32px;\n",
              "    }\n",
              "\n",
              "    .colab-df-convert:hover {\n",
              "      background-color: #E2EBFA;\n",
              "      box-shadow: 0px 1px 2px rgba(60, 64, 67, 0.3), 0px 1px 3px 1px rgba(60, 64, 67, 0.15);\n",
              "      fill: #174EA6;\n",
              "    }\n",
              "\n",
              "    [theme=dark] .colab-df-convert {\n",
              "      background-color: #3B4455;\n",
              "      fill: #D2E3FC;\n",
              "    }\n",
              "\n",
              "    [theme=dark] .colab-df-convert:hover {\n",
              "      background-color: #434B5C;\n",
              "      box-shadow: 0px 1px 3px 1px rgba(0, 0, 0, 0.15);\n",
              "      filter: drop-shadow(0px 1px 2px rgba(0, 0, 0, 0.3));\n",
              "      fill: #FFFFFF;\n",
              "    }\n",
              "  </style>\n",
              "\n",
              "      <script>\n",
              "        const buttonEl =\n",
              "          document.querySelector('#df-9898aaec-9b37-4f49-b2fa-10578238d4c2 button.colab-df-convert');\n",
              "        buttonEl.style.display =\n",
              "          google.colab.kernel.accessAllowed ? 'block' : 'none';\n",
              "\n",
              "        async function convertToInteractive(key) {\n",
              "          const element = document.querySelector('#df-9898aaec-9b37-4f49-b2fa-10578238d4c2');\n",
              "          const dataTable =\n",
              "            await google.colab.kernel.invokeFunction('convertToInteractive',\n",
              "                                                     [key], {});\n",
              "          if (!dataTable) return;\n",
              "\n",
              "          const docLinkHtml = 'Like what you see? Visit the ' +\n",
              "            '<a target=\"_blank\" href=https://colab.research.google.com/notebooks/data_table.ipynb>data table notebook</a>'\n",
              "            + ' to learn more about interactive tables.';\n",
              "          element.innerHTML = '';\n",
              "          dataTable['output_type'] = 'display_data';\n",
              "          await google.colab.output.renderOutput(dataTable, element);\n",
              "          const docLink = document.createElement('div');\n",
              "          docLink.innerHTML = docLinkHtml;\n",
              "          element.appendChild(docLink);\n",
              "        }\n",
              "      </script>\n",
              "    </div>\n",
              "  </div>\n",
              "  "
            ]
          },
          "metadata": {},
          "execution_count": 1
        }
      ],
      "source": [
        "import pandas as pd\n",
        "import numpy as np\n",
        "df = pd.read_csv(\"https://raw.githubusercontent.com/anvarnarz/praktikum_datasets/main/merc.csv\")\n",
        "df.head()"
      ]
    },
    {
      "cell_type": "code",
      "source": [
        "df.shape"
      ],
      "metadata": {
        "colab": {
          "base_uri": "https://localhost:8080/"
        },
        "id": "slz_cD69P5pm",
        "outputId": "bba09eb2-49ed-4bb1-9438-66bcc4dc5b09"
      },
      "execution_count": 2,
      "outputs": [
        {
          "output_type": "execute_result",
          "data": {
            "text/plain": [
              "(13119, 9)"
            ]
          },
          "metadata": {},
          "execution_count": 2
        }
      ]
    },
    {
      "cell_type": "code",
      "source": [
        "df.info()"
      ],
      "metadata": {
        "colab": {
          "base_uri": "https://localhost:8080/"
        },
        "id": "FlN49YPQP9o4",
        "outputId": "9e48c830-4e60-4dd6-90c5-9aeee403e477"
      },
      "execution_count": 3,
      "outputs": [
        {
          "output_type": "stream",
          "name": "stdout",
          "text": [
            "<class 'pandas.core.frame.DataFrame'>\n",
            "RangeIndex: 13119 entries, 0 to 13118\n",
            "Data columns (total 9 columns):\n",
            " #   Column        Non-Null Count  Dtype  \n",
            "---  ------        --------------  -----  \n",
            " 0   model         13119 non-null  object \n",
            " 1   year          13119 non-null  int64  \n",
            " 2   price         13119 non-null  int64  \n",
            " 3   transmission  13119 non-null  object \n",
            " 4   mileage       13119 non-null  int64  \n",
            " 5   fuelType      13119 non-null  object \n",
            " 6   tax           13119 non-null  int64  \n",
            " 7   mpg           13119 non-null  float64\n",
            " 8   engineSize    13119 non-null  float64\n",
            "dtypes: float64(2), int64(4), object(3)\n",
            "memory usage: 922.6+ KB\n"
          ]
        }
      ]
    },
    {
      "cell_type": "code",
      "source": [
        "df.describe()"
      ],
      "metadata": {
        "colab": {
          "base_uri": "https://localhost:8080/",
          "height": 300
        },
        "id": "BdTbMQ-7Qjmp",
        "outputId": "1dfa6d5f-c006-4299-db69-94a3235685e8"
      },
      "execution_count": 5,
      "outputs": [
        {
          "output_type": "execute_result",
          "data": {
            "text/plain": [
              "               year          price        mileage           tax           mpg  \\\n",
              "count  13119.000000   13119.000000   13119.000000  13119.000000  13119.000000   \n",
              "mean    2017.296288   24698.596920   21949.559037    129.972178     55.155843   \n",
              "std        2.224709   11842.675542   21176.512267     65.260286     15.220082   \n",
              "min     1970.000000     650.000000       1.000000      0.000000      1.100000   \n",
              "25%     2016.000000   17450.000000    6097.500000    125.000000     45.600000   \n",
              "50%     2018.000000   22480.000000   15189.000000    145.000000     56.500000   \n",
              "75%     2019.000000   28980.000000   31779.500000    145.000000     64.200000   \n",
              "max     2020.000000  159999.000000  259000.000000    580.000000    217.300000   \n",
              "\n",
              "         engineSize  \n",
              "count  13119.000000  \n",
              "mean       2.071530  \n",
              "std        0.572426  \n",
              "min        0.000000  \n",
              "25%        1.800000  \n",
              "50%        2.000000  \n",
              "75%        2.100000  \n",
              "max        6.200000  "
            ],
            "text/html": [
              "\n",
              "  <div id=\"df-13b9c5dd-0e82-4953-bfbb-a3a8bd8b56cd\">\n",
              "    <div class=\"colab-df-container\">\n",
              "      <div>\n",
              "<style scoped>\n",
              "    .dataframe tbody tr th:only-of-type {\n",
              "        vertical-align: middle;\n",
              "    }\n",
              "\n",
              "    .dataframe tbody tr th {\n",
              "        vertical-align: top;\n",
              "    }\n",
              "\n",
              "    .dataframe thead th {\n",
              "        text-align: right;\n",
              "    }\n",
              "</style>\n",
              "<table border=\"1\" class=\"dataframe\">\n",
              "  <thead>\n",
              "    <tr style=\"text-align: right;\">\n",
              "      <th></th>\n",
              "      <th>year</th>\n",
              "      <th>price</th>\n",
              "      <th>mileage</th>\n",
              "      <th>tax</th>\n",
              "      <th>mpg</th>\n",
              "      <th>engineSize</th>\n",
              "    </tr>\n",
              "  </thead>\n",
              "  <tbody>\n",
              "    <tr>\n",
              "      <th>count</th>\n",
              "      <td>13119.000000</td>\n",
              "      <td>13119.000000</td>\n",
              "      <td>13119.000000</td>\n",
              "      <td>13119.000000</td>\n",
              "      <td>13119.000000</td>\n",
              "      <td>13119.000000</td>\n",
              "    </tr>\n",
              "    <tr>\n",
              "      <th>mean</th>\n",
              "      <td>2017.296288</td>\n",
              "      <td>24698.596920</td>\n",
              "      <td>21949.559037</td>\n",
              "      <td>129.972178</td>\n",
              "      <td>55.155843</td>\n",
              "      <td>2.071530</td>\n",
              "    </tr>\n",
              "    <tr>\n",
              "      <th>std</th>\n",
              "      <td>2.224709</td>\n",
              "      <td>11842.675542</td>\n",
              "      <td>21176.512267</td>\n",
              "      <td>65.260286</td>\n",
              "      <td>15.220082</td>\n",
              "      <td>0.572426</td>\n",
              "    </tr>\n",
              "    <tr>\n",
              "      <th>min</th>\n",
              "      <td>1970.000000</td>\n",
              "      <td>650.000000</td>\n",
              "      <td>1.000000</td>\n",
              "      <td>0.000000</td>\n",
              "      <td>1.100000</td>\n",
              "      <td>0.000000</td>\n",
              "    </tr>\n",
              "    <tr>\n",
              "      <th>25%</th>\n",
              "      <td>2016.000000</td>\n",
              "      <td>17450.000000</td>\n",
              "      <td>6097.500000</td>\n",
              "      <td>125.000000</td>\n",
              "      <td>45.600000</td>\n",
              "      <td>1.800000</td>\n",
              "    </tr>\n",
              "    <tr>\n",
              "      <th>50%</th>\n",
              "      <td>2018.000000</td>\n",
              "      <td>22480.000000</td>\n",
              "      <td>15189.000000</td>\n",
              "      <td>145.000000</td>\n",
              "      <td>56.500000</td>\n",
              "      <td>2.000000</td>\n",
              "    </tr>\n",
              "    <tr>\n",
              "      <th>75%</th>\n",
              "      <td>2019.000000</td>\n",
              "      <td>28980.000000</td>\n",
              "      <td>31779.500000</td>\n",
              "      <td>145.000000</td>\n",
              "      <td>64.200000</td>\n",
              "      <td>2.100000</td>\n",
              "    </tr>\n",
              "    <tr>\n",
              "      <th>max</th>\n",
              "      <td>2020.000000</td>\n",
              "      <td>159999.000000</td>\n",
              "      <td>259000.000000</td>\n",
              "      <td>580.000000</td>\n",
              "      <td>217.300000</td>\n",
              "      <td>6.200000</td>\n",
              "    </tr>\n",
              "  </tbody>\n",
              "</table>\n",
              "</div>\n",
              "      <button class=\"colab-df-convert\" onclick=\"convertToInteractive('df-13b9c5dd-0e82-4953-bfbb-a3a8bd8b56cd')\"\n",
              "              title=\"Convert this dataframe to an interactive table.\"\n",
              "              style=\"display:none;\">\n",
              "        \n",
              "  <svg xmlns=\"http://www.w3.org/2000/svg\" height=\"24px\"viewBox=\"0 0 24 24\"\n",
              "       width=\"24px\">\n",
              "    <path d=\"M0 0h24v24H0V0z\" fill=\"none\"/>\n",
              "    <path d=\"M18.56 5.44l.94 2.06.94-2.06 2.06-.94-2.06-.94-.94-2.06-.94 2.06-2.06.94zm-11 1L8.5 8.5l.94-2.06 2.06-.94-2.06-.94L8.5 2.5l-.94 2.06-2.06.94zm10 10l.94 2.06.94-2.06 2.06-.94-2.06-.94-.94-2.06-.94 2.06-2.06.94z\"/><path d=\"M17.41 7.96l-1.37-1.37c-.4-.4-.92-.59-1.43-.59-.52 0-1.04.2-1.43.59L10.3 9.45l-7.72 7.72c-.78.78-.78 2.05 0 2.83L4 21.41c.39.39.9.59 1.41.59.51 0 1.02-.2 1.41-.59l7.78-7.78 2.81-2.81c.8-.78.8-2.07 0-2.86zM5.41 20L4 18.59l7.72-7.72 1.47 1.35L5.41 20z\"/>\n",
              "  </svg>\n",
              "      </button>\n",
              "      \n",
              "  <style>\n",
              "    .colab-df-container {\n",
              "      display:flex;\n",
              "      flex-wrap:wrap;\n",
              "      gap: 12px;\n",
              "    }\n",
              "\n",
              "    .colab-df-convert {\n",
              "      background-color: #E8F0FE;\n",
              "      border: none;\n",
              "      border-radius: 50%;\n",
              "      cursor: pointer;\n",
              "      display: none;\n",
              "      fill: #1967D2;\n",
              "      height: 32px;\n",
              "      padding: 0 0 0 0;\n",
              "      width: 32px;\n",
              "    }\n",
              "\n",
              "    .colab-df-convert:hover {\n",
              "      background-color: #E2EBFA;\n",
              "      box-shadow: 0px 1px 2px rgba(60, 64, 67, 0.3), 0px 1px 3px 1px rgba(60, 64, 67, 0.15);\n",
              "      fill: #174EA6;\n",
              "    }\n",
              "\n",
              "    [theme=dark] .colab-df-convert {\n",
              "      background-color: #3B4455;\n",
              "      fill: #D2E3FC;\n",
              "    }\n",
              "\n",
              "    [theme=dark] .colab-df-convert:hover {\n",
              "      background-color: #434B5C;\n",
              "      box-shadow: 0px 1px 3px 1px rgba(0, 0, 0, 0.15);\n",
              "      filter: drop-shadow(0px 1px 2px rgba(0, 0, 0, 0.3));\n",
              "      fill: #FFFFFF;\n",
              "    }\n",
              "  </style>\n",
              "\n",
              "      <script>\n",
              "        const buttonEl =\n",
              "          document.querySelector('#df-13b9c5dd-0e82-4953-bfbb-a3a8bd8b56cd button.colab-df-convert');\n",
              "        buttonEl.style.display =\n",
              "          google.colab.kernel.accessAllowed ? 'block' : 'none';\n",
              "\n",
              "        async function convertToInteractive(key) {\n",
              "          const element = document.querySelector('#df-13b9c5dd-0e82-4953-bfbb-a3a8bd8b56cd');\n",
              "          const dataTable =\n",
              "            await google.colab.kernel.invokeFunction('convertToInteractive',\n",
              "                                                     [key], {});\n",
              "          if (!dataTable) return;\n",
              "\n",
              "          const docLinkHtml = 'Like what you see? Visit the ' +\n",
              "            '<a target=\"_blank\" href=https://colab.research.google.com/notebooks/data_table.ipynb>data table notebook</a>'\n",
              "            + ' to learn more about interactive tables.';\n",
              "          element.innerHTML = '';\n",
              "          dataTable['output_type'] = 'display_data';\n",
              "          await google.colab.output.renderOutput(dataTable, element);\n",
              "          const docLink = document.createElement('div');\n",
              "          docLink.innerHTML = docLinkHtml;\n",
              "          element.appendChild(docLink);\n",
              "        }\n",
              "      </script>\n",
              "    </div>\n",
              "  </div>\n",
              "  "
            ]
          },
          "metadata": {},
          "execution_count": 5
        }
      ]
    },
    {
      "cell_type": "code",
      "source": [
        "df['price'].plot.hist(bins=30)"
      ],
      "metadata": {
        "colab": {
          "base_uri": "https://localhost:8080/",
          "height": 282
        },
        "id": "9FkKcDLRRlJC",
        "outputId": "fc1a0f45-afe7-4f59-ca65-604905743d42"
      },
      "execution_count": 6,
      "outputs": [
        {
          "output_type": "execute_result",
          "data": {
            "text/plain": [
              "<matplotlib.axes._subplots.AxesSubplot at 0x7f491393b990>"
            ]
          },
          "metadata": {},
          "execution_count": 6
        },
        {
          "output_type": "display_data",
          "data": {
            "text/plain": [
              "<Figure size 432x288 with 1 Axes>"
            ],
            "image/png": "[encoded data removed]"
          },
          "metadata": {
            "needs_background": "light"
          }
        }
      ]
    },
    {
      "cell_type": "code",
      "source": [
        "df['year'].plot.hist(bins=30)"
      ],
      "metadata": {
        "colab": {
          "base_uri": "https://localhost:8080/",
          "height": 282
        },
        "id": "NMYUSD_KSkJT",
        "outputId": "dc4154bd-3a2e-4aee-ca16-5700c69e1101"
      },
      "execution_count": 7,
      "outputs": [
        {
          "output_type": "execute_result",
          "data": {
            "text/plain": [
              "<matplotlib.axes._subplots.AxesSubplot at 0x7f491376ef50>"
            ]
          },
          "metadata": {},
          "execution_count": 7
        },
        {
          "output_type": "display_data",
          "data": {
            "text/plain": [
              "<Figure size 432x288 with 1 Axes>"
            ],
            "image/png": "[encoded data removed]"
          },
          "metadata": {
            "needs_background": "light"
          }
        }
      ]
    },
    {
      "cell_type": "code",
      "source": [
        ""
      ],
      "metadata": {
        "id": "xXp5ZG7rSrcT"
      },
      "execution_count": null,
      "outputs": []
    }
  ]
}