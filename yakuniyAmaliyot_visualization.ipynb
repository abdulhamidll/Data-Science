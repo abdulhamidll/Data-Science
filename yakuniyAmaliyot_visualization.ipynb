{
  "nbformat": 4,
  "nbformat_minor": 0,
  "metadata": {
    "colab": {
      "name": "yakuniyAmaliyot_visualization.ipynb",
      "provenance": [],
      "collapsed_sections": [],
      "include_colab_link": true
    },
    "kernelspec": {
      "name": "python3",
      "display_name": "Python 3"
    },
    "language_info": {
      "name": "python"
    }
  },
  "cells": [
    {
      "cell_type": "markdown",
      "metadata": {
        "id": "view-in-github",
        "colab_type": "text"
      },
      "source": [
        "<a href=\"https://colab.research.google.com/github/abdulhamidll/Data-Science/blob/main/yakuniyAmaliyot_visualization.ipynb\" target=\"_parent\"><img src=\"https://colab.research.google.com/assets/colab-badge.svg\" alt=\"Open In Colab\"/></a>"
      ]
    },
    {
      "cell_type": "markdown",
      "source": [
        "![Imgur](https://i.imgur.com/5pXzCIu.png)\n",
        "\n",
        "# Data Science va Sun'iy Intellekt Praktikum\n",
        "\n",
        "## 4-MODUL. VIZUALIZASIYA\n",
        "\n",
        "## Yakuniy amaliyot. `matplotlib`\n"
      ],
      "metadata": {
        "id": "NH59l9byvNyt"
      }
    },
    {
      "cell_type": "code",
      "execution_count": null,
      "metadata": {
        "id": "kr8VZeHIrvu_"
      },
      "outputs": [],
      "source": [
        "import numpy as np\n",
        "import pandas as pd\n",
        "\n",
        "import matplotlib.pyplot as plt\n",
        "%matplotlib inline\n",
        "import seaborn as sns\n",
        "sns.set()"
      ]
    },
    {
      "cell_type": "markdown",
      "source": [
        "XYZ kompaniyasi taxminan 4000 ishchi xodim ishlaydi va afsuski har yili xodimlarning 15% ga yaqini o'z xohishlari bilan yoki kompaniya tomonidan ishdan bo'shatiladi va yana yangi xodim ishga olinadi. Bu esa kompaniya uchun bir qancha noqulayliklar tug'diradi (loyihalar sekinlashishi, ishga qabul qilish jarayoni uzoqligi, yangi ishchi ko'nikishi uchun treninglar va ma'lum vaqt kerakligi). Ishchilarni saqlab qolish uchun kompaniya HR tahlil qilib ko'rishga qaror qildi va quyidagi datasetdan foydalanib, qanday faktorlar ishchilarni bo'shashiga sabab bo'lishini tahlil qilishgan.\n",
        "Dataset ustun nomlari:\n",
        "\n",
        "1.   Age - yoshi\n",
        "2.   Attrition - ishdan bo'shaganmi\n",
        "3.   BusinessTravel - komandirovka\n",
        "4.   DistanceFromHome - uydan ishgacha bo'lgan masofa (km)\n",
        "5.   Education - Ta'lim\n",
        "6.   Gender - jinsi\n",
        "7.   MaritalStatus - oilaviy holati\n",
        "\n",
        "\n",
        "<a href=\"https://ibb.co/sR5zPJV\"><img src=\"https://i.ibb.co/g9vh7FR/hr.png\" alt=\"hr\" border=\"0\" style=\"width:100%\"></a>\n"
      ],
      "metadata": {
        "id": "zFN8W2-LujYc"
      }
    },
    {
      "cell_type": "code",
      "source": [
        "#@title QUYIDAGI KODGA TEGMANG!!! \n",
        "import ssl\n",
        "ssl._create_default_https_context = ssl._create_unverified_context"
      ],
      "metadata": {
        "id": "kROQyqEcwjDQ",
        "cellView": "form"
      },
      "execution_count": null,
      "outputs": []
    },
    {
      "cell_type": "markdown",
      "source": [
        "## 1-VAZIFA: Quyidagi CSV fayl linkidan foydalaning \n",
        "### - va ma'lumotlarni \"data\" nomli o'zgaruvchiga biriktiring \n",
        "### - hamda 'EmployeeCount','EmployeeID','StandardHours' ustunlari ortiqchaligi sababli o'chirib tashlang\n",
        "\n",
        "### LINK: https://raw.githubusercontent.com/mukhammad-irmatov/health_dataset/main/hr_dataset.csv"
      ],
      "metadata": {
        "id": "uIzfpkaK3bQW"
      }
    },
    {
      "cell_type": "code",
      "source": [
        "# JAVOBNI SHUYERGA YOZING\n"
      ],
      "metadata": {
        "id": "JPzzo4-Ut1tu"
      },
      "execution_count": null,
      "outputs": []
    },
    {
      "cell_type": "markdown",
      "source": [
        "## 2-VAZIFA: Qaysi ustunlarda nechtadan null qiymatlar borligini aniqlang\n",
        "### - o'sha ustunlardagi kataklarni 0 qiymati bilan to'ldiring.\n"
      ],
      "metadata": {
        "id": "rOEiPT855hfG"
      }
    },
    {
      "cell_type": "code",
      "source": [
        "# JAVOBNI SHUYERGA YOZING\n"
      ],
      "metadata": {
        "id": "iyDLfCeK6Axw"
      },
      "execution_count": null,
      "outputs": []
    },
    {
      "cell_type": "markdown",
      "source": [
        "## 3-VAZIFA: Barcha ustunlardagi o'zaro korrelatsiyasini aniqlang\n",
        "### - hamda heatmap orqali 16:10 o'lchamda ekranga chiqaring \n"
      ],
      "metadata": {
        "id": "pnbIUjWQ6crL"
      }
    },
    {
      "cell_type": "code",
      "source": [
        "# JAVOBNI SHUYERGA YOZING\n"
      ],
      "metadata": {
        "id": "twSCy4Re6djN"
      },
      "execution_count": null,
      "outputs": []
    },
    {
      "cell_type": "markdown",
      "source": [
        "## 4-VAZIFA: Dataset uzunligini toping, ya'ni umumiy nechta qator(row) dan tashkil topgan\n",
        "#### - Attrition(ishdan bo'shaganmi) ustunidagi \"Yes\" deb javob berilgan qatorlar soni\n",
        "#### - Attrition(ishdan bo'shaganmi) ustunidagi \"No\" deb javob berilgan qatorlar soni\n",
        "#### - Attrition(ishdan bo'shaganmi) ustunidagi \"Yes\" deb javob berilgan qatorlar soni umumiy datasetning necha fozini tashkil etadi\n",
        "#### - Attrition(ishdan bo'shaganmi) ustunidagi \"No\" deb javob berilgan qatorlar soni umumiy datasetning necha fozini tashkil etadi\n",
        "\n",
        "**Hint:** har birini ekranga chiqarish uchun print dan foydalaning\n",
        "\n",
        "\n",
        "<a href=\"https://imgbb.com/\"><img src=\"https://i.ibb.co/28VjRyB/img.png\" alt=\"img\" border=\"0\"></a>"
      ],
      "metadata": {
        "id": "RYu99y9T8XrY"
      }
    },
    {
      "cell_type": "code",
      "source": [
        "# JAVOBNI SHUYERGA YOZING\n"
      ],
      "metadata": {
        "id": "7sHkGw4u8Y6n"
      },
      "execution_count": null,
      "outputs": []
    },
    {
      "cell_type": "markdown",
      "source": [
        "## 5-VAZIFA: Countplot() orqali Attrition ustunidagi ma'lumotlarni \"Yes\" \"No\" soniga ko'ra, ustunli grafik shaklida tasvirlang\n",
        "\n",
        "<a href=\"https://imgbb.com/\"><img src=\"https://i.ibb.co/Px9Bn6J/plt.png\" alt=\"plt\" border=\"0\"></a>"
      ],
      "metadata": {
        "id": "wcqV7Cfm9ssp"
      }
    },
    {
      "cell_type": "code",
      "source": [
        "# JAVOBNI SHUYERGA YOZING\n"
      ],
      "metadata": {
        "id": "dTS-HrvM9tdg"
      },
      "execution_count": null,
      "outputs": []
    },
    {
      "cell_type": "markdown",
      "source": [
        "## 6-VAZIFA: Countplot() orqali Attrition ustunidagi ma'lumotlarni \"Yes\" \"No\" soniga ko'ra hamda gender ustuniga bo'lingan holda ustunli grafikda tasvirlang.\n",
        "\n",
        "<a href=\"https://imgbb.com/\"><img src=\"https://i.ibb.co/R7BC8z2/bygender.png\" alt=\"bygender\" border=\"0\"></a>"
      ],
      "metadata": {
        "id": "U8C6d9GuIJus"
      }
    },
    {
      "cell_type": "code",
      "source": [
        "# JAVOBNI SHUYERGA YOZING\n"
      ],
      "metadata": {
        "id": "IHuArXLLILEB"
      },
      "execution_count": null,
      "outputs": []
    },
    {
      "cell_type": "markdown",
      "source": [
        "## 7-VAZIFA: Countplot() orqali Attrition ustunidagi ma'lumotlarni \"Yes\" \"No\" soniga ko'ra hamda jobLevel ustuniga bo'lingan holda ustunli grafikda tasvirlang.\n",
        "\n",
        "<a href=\"https://imgbb.com/\"><img src=\"https://i.ibb.co/kmzVfDK/byjoblevel.png\" alt=\"byjoblevel\" border=\"0\"></a><br /><a target='_blank' href='https://the-crosswordsolver.com/tobagos-island-neighbor-8-letters'></a><br />"
      ],
      "metadata": {
        "id": "2tAmAxOXKCa0"
      }
    },
    {
      "cell_type": "code",
      "source": [
        "# JAVOBNI SHUYERGA YOZING\n"
      ],
      "metadata": {
        "id": "P0OEMc9UKvgP"
      },
      "execution_count": null,
      "outputs": []
    },
    {
      "cell_type": "markdown",
      "source": [
        "## 8-VAZIFA: Pie chart orqali \"Attrition\" (ishdan bo'shaganmi) ustunidagi Yes va No qiymatlariga ko'ra grafikni chiqaring\n",
        "\n",
        "<a href=\"https://imgbb.com/\"><img src=\"https://i.ibb.co/LZ4cCKb/PieChart.png\" alt=\"PieChart\" border=\"0\"></a><br /><a target='_blank' href='https://the-crosswordsolver.com/netman-smith-4-letters'></a><br />"
      ],
      "metadata": {
        "id": "vKqBcTPhL3-3"
      }
    },
    {
      "cell_type": "code",
      "source": [
        "# JAVOBNI SHUYERGA YOZING\n",
        "\n",
        "\n"
      ],
      "metadata": {
        "id": "_m1tHdofL7RS"
      },
      "execution_count": null,
      "outputs": []
    },
    {
      "cell_type": "markdown",
      "source": [
        "## 9-VAZIFA:  Crosstab orqali \"Attrition\" (ishdan bo'shaganmi) ustunidagi Yes va No qiymatlari hamda Department ustuniga ko'ra grafikni chiqaring\n",
        "\n",
        "<a href=\"https://imgbb.com/\"><img src=\"https://i.ibb.co/g4KgG6q/depart.png\" alt=\"depart\" border=\"0\"></a>"
      ],
      "metadata": {
        "id": "kEEl9lmJWCfi"
      }
    },
    {
      "cell_type": "code",
      "source": [
        "# JAVOBNI SHUYERGA YOZING\n",
        "\n",
        "\n"
      ],
      "metadata": {
        "id": "7xSeffiDWDd5"
      },
      "execution_count": null,
      "outputs": []
    },
    {
      "cell_type": "markdown",
      "source": [
        "## 10-VAZIFA:  Seaborn kutubxonasining Distribution(taqsimot) imkoniyatidan foydalanib, Attrition(ishdan bo'shaganmi) ustunini MonthlyIncome ustuniga solishtirilganligini grafigini ekranga chiqaring.\n",
        "\n",
        "\n",
        "**Hint: ** Bu orqali biz ishchining oylik maoshini uning ishdan bo'shab ketishiga bog'liq yoki bog'liq emasligini topamiz.\n",
        "\n",
        "<a href=\"https://imgbb.com/\"><img src=\"https://i.ibb.co/zQc4FVZ/displot.png\" alt=\"displot\" border=\"0\"></a><br /><a target='_blank' href='https://500pxdownload.com/'></a><br />"
      ],
      "metadata": {
        "id": "Y3vs7JJIXEgf"
      }
    },
    {
      "cell_type": "code",
      "source": [
        "# JAVOBNI SHUYERGA YOZING"
      ],
      "metadata": {
        "id": "xbF-fJq7XFTf"
      },
      "execution_count": null,
      "outputs": []
    }
  ]
}