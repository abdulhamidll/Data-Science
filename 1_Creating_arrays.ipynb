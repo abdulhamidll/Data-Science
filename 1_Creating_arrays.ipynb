{
  "nbformat": 4,
  "nbformat_minor": 0,
  "metadata": {
    "colab": {
      "name": "1_Creating_arrays.ipynb",
      "provenance": [],
      "authorship_tag": "ABX9TyM4PSRd8lqu/xatc17Qu7pu",
      "include_colab_link": true
    },
    "kernelspec": {
      "name": "python3",
      "display_name": "Python 3"
    },
    "language_info": {
      "name": "python"
    }
  },
  "cells": [
    {
      "cell_type": "markdown",
      "metadata": {
        "id": "view-in-github",
        "colab_type": "text"
      },
      "source": [
        "<a href=\"https://colab.research.google.com/github/abdulhamidll/Data-Science/blob/main/1_Creating_arrays.ipynb\" target=\"_parent\"><img src=\"https://colab.research.google.com/assets/colab-badge.svg\" alt=\"Open In Colab\"/></a>"
      ]
    },
    {
      "cell_type": "code",
      "execution_count": 20,
      "metadata": {
        "colab": {
          "base_uri": "https://localhost:8080/"
        },
        "id": "6ywgJ-Ey2xVw",
        "outputId": "8f0b9dfe-6ee2-4149-f4b3-87cd569c669e"
      },
      "outputs": [
        {
          "output_type": "execute_result",
          "data": {
            "text/plain": [
              "array([ 1,  3,  5,  7,  9, 11, 13, 15, 17, 19, 21, 23, 25, 27, 29, 31, 33,\n",
              "       35, 37, 39, 41, 43, 45, 47, 49, 51, 53, 55])"
            ]
          },
          "metadata": {},
          "execution_count": 20
        }
      ],
      "source": [
        "import numpy as np\n",
        "\n",
        "data1 = [1, 2, 3, 89, 1212, 4]\n",
        "\n",
        "arr = np.array(data1)\n",
        "\n",
        "data2 = (12, 23, 45, 6.7)\n",
        "\n",
        "arr2 = np.array(data2)\n",
        "arr2.ndim # array o'lchami\n",
        "\n",
        "data3 = [[1,2,0,565656], [98, 54, 2, 45]] # list ichidagi list ( nasted list )\n",
        "arr3 = np.array(data3)\n",
        "\n",
        "\n",
        "data4 = [[[12, 23, 54]], [[67, 89, 54]], [[1, 2, 3]]]\n",
        "arr4 = np.array(data4)\n",
        "arr4.ndim\n",
        "arr4.shape # qator va ustunlar soni\n",
        "arr4.size # array elementlar soni\n",
        "\n",
        "arr5 = np.zeros(shape = (56, 78)) # barcha elementlar 0 ga teng (56, 78) o'lchamli massiv\n",
        "arr5\n",
        "\n",
        "arr6 = np.ones((8, 45)) # barcha elementlari 1 ga teng (8, 45) o'lchamli massiv\n",
        "arr6\n",
        "\n",
        "arr7 = np.arange(1, 56, 2) 1 dan 56 gacha 2 qadam bilan massiv yaratish\n",
        "arr7"
      ]
    }
  ]
}