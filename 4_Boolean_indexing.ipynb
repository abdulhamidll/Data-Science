{
  "nbformat": 4,
  "nbformat_minor": 0,
  "metadata": {
    "colab": {
      "name": "4_Boolean_indexing.ipynb",
      "provenance": [],
      "authorship_tag": "ABX9TyMBGfloWePJGu2VsGLHJTwX",
      "include_colab_link": true
    },
    "kernelspec": {
      "name": "python3",
      "display_name": "Python 3"
    },
    "language_info": {
      "name": "python"
    }
  },
  "cells": [
    {
      "cell_type": "markdown",
      "metadata": {
        "id": "view-in-github",
        "colab_type": "text"
      },
      "source": [
        "<a href=\"https://colab.research.google.com/github/abdulhamidll/Data-Science/blob/main/4_Boolean_indexing.ipynb\" target=\"_parent\"><img src=\"https://colab.research.google.com/assets/colab-badge.svg\" alt=\"Open In Colab\"/></a>"
      ]
    },
    {
      "cell_type": "code",
      "execution_count": 3,
      "metadata": {
        "id": "oEjwqMuXtF-y"
      },
      "outputs": [],
      "source": [
        "import numpy as np"
      ]
    },
    {
      "cell_type": "code",
      "source": [
        "names = np.array([\"ali\", \"vali\", \"g'ani\", \"ali\", \"hasan\", \"husan\", \"kali\"])\n",
        "names"
      ],
      "metadata": {
        "colab": {
          "base_uri": "https://localhost:8080/"
        },
        "id": "UE-wg_3ttXXI",
        "outputId": "6f6613a8-9f96-404c-db75-389e5ddf8a91"
      },
      "execution_count": 5,
      "outputs": [
        {
          "output_type": "execute_result",
          "data": {
            "text/plain": [
              "array(['ali', 'vali', \"g'ani\", 'ali', 'hasan', 'husan', 'kali'],\n",
              "      dtype='<U5')"
            ]
          },
          "metadata": {},
          "execution_count": 5
        }
      ]
    },
    {
      "cell_type": "code",
      "source": [
        "data = np.random.randn  (7, 4)\n",
        "data"
      ],
      "metadata": {
        "colab": {
          "base_uri": "https://localhost:8080/"
        },
        "id": "QL0eQnVXto02",
        "outputId": "1bce9f58-325d-42c5-a093-737a511feefe"
      },
      "execution_count": 12,
      "outputs": [
        {
          "output_type": "execute_result",
          "data": {
            "text/plain": [
              "array([[ 1.46530149, -0.4561718 , -1.33099004,  0.61602801],\n",
              "       [-0.62317566, -0.89193006, -2.28147451, -0.29055363],\n",
              "       [ 0.71175435,  0.39124982, -0.02107014, -0.3754167 ],\n",
              "       [ 0.7646069 ,  1.08863583,  0.21334178,  0.01923973],\n",
              "       [-1.89852777, -1.14109069,  0.41885932, -0.48869505],\n",
              "       [-0.25350947, -0.37071421,  0.72203068,  0.73640922],\n",
              "       [ 2.12428263, -1.62115787,  0.16583807,  0.67992935]])"
            ]
          },
          "metadata": {},
          "execution_count": 12
        }
      ]
    },
    {
      "cell_type": "code",
      "source": [
        "names == \"ali\""
      ],
      "metadata": {
        "colab": {
          "base_uri": "https://localhost:8080/"
        },
        "id": "qournIu2t9KW",
        "outputId": "dc5e272c-6211-4dbb-b9da-88fb9d932339"
      },
      "execution_count": 14,
      "outputs": [
        {
          "output_type": "execute_result",
          "data": {
            "text/plain": [
              "array([ True, False, False,  True, False, False, False])"
            ]
          },
          "metadata": {},
          "execution_count": 14
        }
      ]
    },
    {
      "cell_type": "code",
      "source": [
        "data[ names == \"ali\"]"
      ],
      "metadata": {
        "colab": {
          "base_uri": "https://localhost:8080/"
        },
        "id": "MKy-Qm96ul_e",
        "outputId": "ac029f98-6707-4721-9f66-acf65b11035c"
      },
      "execution_count": 16,
      "outputs": [
        {
          "output_type": "execute_result",
          "data": {
            "text/plain": [
              "array([[ 1.46530149, -0.4561718 , -1.33099004,  0.61602801],\n",
              "       [ 0.7646069 ,  1.08863583,  0.21334178,  0.01923973]])"
            ]
          },
          "metadata": {},
          "execution_count": 16
        }
      ]
    },
    {
      "cell_type": "code",
      "source": [
        "data[names == \"ali\", 2:]# Aliga tegishli oxirgi ikkita ustunni ajratib olish  "
      ],
      "metadata": {
        "colab": {
          "base_uri": "https://localhost:8080/"
        },
        "id": "oO4SIWF7vNhH",
        "outputId": "75734872-0971-4278-c3cc-080fa2020697"
      },
      "execution_count": 18,
      "outputs": [
        {
          "output_type": "execute_result",
          "data": {
            "text/plain": [
              "array([[-1.33099004,  0.61602801],\n",
              "       [ 0.21334178,  0.01923973]])"
            ]
          },
          "metadata": {},
          "execution_count": 18
        }
      ]
    },
    {
      "cell_type": "code",
      "source": [
        "data[names != \"ali\"] # ( != )Alidan tashqari barcha malumotlarni ajratib olish"
      ],
      "metadata": {
        "colab": {
          "base_uri": "https://localhost:8080/"
        },
        "id": "nzznRDYNw46H",
        "outputId": "a6e7a685-9600-4241-cd34-0e46accb3205"
      },
      "execution_count": 21,
      "outputs": [
        {
          "output_type": "execute_result",
          "data": {
            "text/plain": [
              "array([[-0.62317566, -0.89193006, -2.28147451, -0.29055363],\n",
              "       [ 0.71175435,  0.39124982, -0.02107014, -0.3754167 ],\n",
              "       [-1.89852777, -1.14109069,  0.41885932, -0.48869505],\n",
              "       [-0.25350947, -0.37071421,  0.72203068,  0.73640922],\n",
              "       [ 2.12428263, -1.62115787,  0.16583807,  0.67992935]])"
            ]
          },
          "metadata": {},
          "execution_count": 21
        }
      ]
    },
    {
      "cell_type": "code",
      "source": [
        "data[~(names==\"ali\")]  # (~)Alidan tashqari barcha malumotlarni ajratib olish"
      ],
      "metadata": {
        "colab": {
          "base_uri": "https://localhost:8080/"
        },
        "id": "k5dxouITxJ26",
        "outputId": "3c59963f-691e-4ade-e7cc-263a27a57b91"
      },
      "execution_count": 27,
      "outputs": [
        {
          "output_type": "execute_result",
          "data": {
            "text/plain": [
              "array([[-0.62317566, -0.89193006, -2.28147451, -0.29055363],\n",
              "       [ 0.71175435,  0.39124982, -0.02107014, -0.3754167 ],\n",
              "       [-1.89852777, -1.14109069,  0.41885932, -0.48869505],\n",
              "       [-0.25350947, -0.37071421,  0.72203068,  0.73640922],\n",
              "       [ 2.12428263, -1.62115787,  0.16583807,  0.67992935]])"
            ]
          },
          "metadata": {},
          "execution_count": 27
        }
      ]
    },
    {
      "cell_type": "code",
      "source": [
        "data[(names == \"ali\") | (names==\"vali\")]"
      ],
      "metadata": {
        "colab": {
          "base_uri": "https://localhost:8080/"
        },
        "id": "sYazahRLxe4T",
        "outputId": "d46bc4cf-b9d6-4012-92c3-ec2a71511c8c"
      },
      "execution_count": 30,
      "outputs": [
        {
          "output_type": "execute_result",
          "data": {
            "text/plain": [
              "array([[ 1.46530149, -0.4561718 , -1.33099004,  0.61602801],\n",
              "       [-0.62317566, -0.89193006, -2.28147451, -0.29055363],\n",
              "       [ 0.7646069 ,  1.08863583,  0.21334178,  0.01923973]])"
            ]
          },
          "metadata": {},
          "execution_count": 30
        }
      ]
    },
    {
      "cell_type": "code",
      "source": [
        "data[data<0] = 0\n",
        "data"
      ],
      "metadata": {
        "colab": {
          "base_uri": "https://localhost:8080/"
        },
        "id": "ffKmRNncyVDa",
        "outputId": "0f920241-9b00-439c-9f58-44a34f7b7343"
      },
      "execution_count": 34,
      "outputs": [
        {
          "output_type": "execute_result",
          "data": {
            "text/plain": [
              "array([[1.46530149, 0.        , 0.        , 0.61602801],\n",
              "       [0.        , 0.        , 0.        , 0.        ],\n",
              "       [0.71175435, 0.39124982, 0.        , 0.        ],\n",
              "       [0.7646069 , 1.08863583, 0.21334178, 0.01923973],\n",
              "       [0.        , 0.        , 0.41885932, 0.        ],\n",
              "       [0.        , 0.        , 0.72203068, 0.73640922],\n",
              "       [2.12428263, 0.        , 0.16583807, 0.67992935]])"
            ]
          },
          "metadata": {},
          "execution_count": 34
        }
      ]
    },
    {
      "cell_type": "code",
      "source": [
        ""
      ],
      "metadata": {
        "id": "p0fde3IezED5"
      },
      "execution_count": null,
      "outputs": []
    }
  ]
}