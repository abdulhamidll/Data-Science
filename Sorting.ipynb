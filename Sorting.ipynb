{
  "nbformat": 4,
  "nbformat_minor": 0,
  "metadata": {
    "colab": {
      "name": "Sorting.ipynb",
      "provenance": [],
      "authorship_tag": "ABX9TyOgEOVKcCYLrYgxmFaKWqE2",
      "include_colab_link": true
    },
    "kernelspec": {
      "name": "python3",
      "display_name": "Python 3"
    },
    "language_info": {
      "name": "python"
    }
  },
  "cells": [
    {
      "cell_type": "markdown",
      "metadata": {
        "id": "view-in-github",
        "colab_type": "text"
      },
      "source": [
        "<a href=\"https://colab.research.google.com/github/abdulhamidll/Data-Science/blob/main/Sorting.ipynb\" target=\"_parent\"><img src=\"https://colab.research.google.com/assets/colab-badge.svg\" alt=\"Open In Colab\"/></a>"
      ]
    },
    {
      "cell_type": "code",
      "execution_count": 1,
      "metadata": {
        "id": "dH3Eg8I2-5O9"
      },
      "outputs": [],
      "source": [
        "import numpy as np"
      ]
    },
    {
      "cell_type": "code",
      "source": [
        "arr = np.random.randn(4) # 4 ta taxminiy elementlardan tashkil topgan massiv \n",
        "arr"
      ],
      "metadata": {
        "colab": {
          "base_uri": "https://localhost:8080/"
        },
        "id": "b6MWHoPv_Cbl",
        "outputId": "64f747a0-f19e-4250-a2b5-87d896e3cacf"
      },
      "execution_count": 3,
      "outputs": [
        {
          "output_type": "execute_result",
          "data": {
            "text/plain": [
              "array([-0.06815003,  0.37596861,  1.34768766,  0.46135558])"
            ]
          },
          "metadata": {},
          "execution_count": 3
        }
      ]
    },
    {
      "cell_type": "code",
      "source": [
        "sorted_arr = np.sort(arr) # arr massiving tartiblangan elemntini qaytaradi\n",
        "sorted_arr"
      ],
      "metadata": {
        "colab": {
          "base_uri": "https://localhost:8080/"
        },
        "id": "1zT5jbvC_K9a",
        "outputId": "edd37edd-4707-4ea4-8eb5-683591a42a31"
      },
      "execution_count": 6,
      "outputs": [
        {
          "output_type": "execute_result",
          "data": {
            "text/plain": [
              "array([-0.06815003,  0.37596861,  0.46135558,  1.34768766])"
            ]
          },
          "metadata": {},
          "execution_count": 6
        }
      ]
    },
    {
      "cell_type": "code",
      "source": [
        "arr2 = -np.sort(-arr)\n",
        "arr2"
      ],
      "metadata": {
        "colab": {
          "base_uri": "https://localhost:8080/"
        },
        "id": "0PHtS2VaTK9t",
        "outputId": "02277016-971c-4da7-e3f5-6815ae6e0a58"
      },
      "execution_count": 8,
      "outputs": [
        {
          "output_type": "execute_result",
          "data": {
            "text/plain": [
              "array([ 1.34768766,  0.46135558,  0.37596861, -0.06815003])"
            ]
          },
          "metadata": {},
          "execution_count": 8
        }
      ]
    },
    {
      "cell_type": "code",
      "source": [
        "# 2D array (massiv)\n",
        "\n",
        "arr2d = np.random.randn(2,4)\n",
        "arr2d"
      ],
      "metadata": {
        "colab": {
          "base_uri": "https://localhost:8080/"
        },
        "id": "HkzXOv1MWaLl",
        "outputId": "06015391-eb5b-41fa-f2e6-bfe7a4ff58dc"
      },
      "execution_count": 9,
      "outputs": [
        {
          "output_type": "execute_result",
          "data": {
            "text/plain": [
              "array([[-0.6578806 , -0.31377418, -0.00502763,  1.76770124],\n",
              "       [ 0.71534508,  1.43553547, -0.76559323,  0.67875833]])"
            ]
          },
          "metadata": {},
          "execution_count": 9
        }
      ]
    },
    {
      "cell_type": "code",
      "source": [
        "# axis=0 qator \n",
        "row_sorted = np.sort(arr2d, axis=0) # 2d ning har bir qatori bo'yicha tartiblash\n",
        "row_sorted"
      ],
      "metadata": {
        "colab": {
          "base_uri": "https://localhost:8080/"
        },
        "id": "lF25zCFPWsSv",
        "outputId": "7bc159b0-3064-4655-93c8-5e69dbb101a3"
      },
      "execution_count": 10,
      "outputs": [
        {
          "output_type": "execute_result",
          "data": {
            "text/plain": [
              "array([[-0.6578806 , -0.31377418, -0.76559323,  0.67875833],\n",
              "       [ 0.71534508,  1.43553547, -0.00502763,  1.76770124]])"
            ]
          },
          "metadata": {},
          "execution_count": 10
        }
      ]
    },
    {
      "cell_type": "code",
      "source": [
        "# axis=1 Ustun\n",
        "col_sorted = np.sort(arr2d, axis=1) # arr2d ning har bir ustun bo'yicha tartiblash\n",
        "col_sorted"
      ],
      "metadata": {
        "colab": {
          "base_uri": "https://localhost:8080/"
        },
        "id": "LXH3H8y4XKMp",
        "outputId": "3d361603-3676-4f43-e2c1-37c1b3ea5504"
      },
      "execution_count": 11,
      "outputs": [
        {
          "output_type": "execute_result",
          "data": {
            "text/plain": [
              "array([[-0.6578806 , -0.31377418, -0.00502763,  1.76770124],\n",
              "       [-0.76559323,  0.67875833,  0.71534508,  1.43553547]])"
            ]
          },
          "metadata": {},
          "execution_count": 11
        }
      ]
    }
  ]
}